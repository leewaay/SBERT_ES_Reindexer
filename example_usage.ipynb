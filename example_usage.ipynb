{
 "cells": [
  {
   "cell_type": "markdown",
   "metadata": {},
   "source": [
    "# ElasticsearchVectorIndexer 사용 예시\n",
    "이 노트북은 ElasticsearchVectorIndexer를 사용하여 Elasticsearch에 문장 임베딩을 색인하는 방법을 보여줍니다."
   ]
  },
  {
   "cell_type": "code",
   "execution_count": 1,
   "metadata": {},
   "outputs": [],
   "source": [
    "from vector_indexer import ElasticsearchVectorIndexer\n",
    "import logging"
   ]
  },
  {
   "cell_type": "code",
   "execution_count": 2,
   "metadata": {},
   "outputs": [],
   "source": [
    "logging.basicConfig(level=logging.INFO, format='%(asctime)s - %(levelname)s - %(message)s')"
   ]
  },
  {
   "cell_type": "markdown",
   "metadata": {},
   "source": [
    "### 1. ElasticsearchVectorIndexer 초기화\n",
    "Elasticsearch와의 연결을 설정하고, SentenceTransformer 모델을 초기화합니다."
   ]
  },
  {
   "cell_type": "code",
   "execution_count": 3,
   "metadata": {},
   "outputs": [
    {
     "name": "stderr",
     "output_type": "stream",
     "text": [
      "2023-08-24 11:51:30,624 - INFO - Load pretrained SentenceTransformer: snunlp/KR-SBERT-V40K-klueNLI-augSTS\n",
      "2023-08-24 11:51:35,352 - INFO - Use pytorch device: cuda\n",
      "2023-08-24 11:51:35,354 - INFO - Initialized with SBERT model: snunlp/KR-SBERT-V40K-klueNLI-augSTS\n"
     ]
    }
   ],
   "source": [
    "HOST = \"localhost\"\n",
    "PORT = 9206\n",
    "USERNAME = None\n",
    "PASSWORD = None\n",
    "SBERT_MODEL_NAME = \"snunlp/KR-SBERT-V40K-klueNLI-augSTS\"\n",
    "\n",
    "indexer = ElasticsearchVectorIndexer(host=HOST, port=PORT, username=USERNAME, password=PASSWORD, sbert_model_name=SBERT_MODEL_NAME)"
   ]
  },
  {
   "cell_type": "markdown",
   "metadata": {},
   "source": [
    "### 2. Elasticsearch에서 데이터 가져오기\n",
    "원본 데이터를 Elasticsearch에서 가져옵니다."
   ]
  },
  {
   "cell_type": "code",
   "execution_count": null,
   "metadata": {},
   "outputs": [],
   "source": [
    "SOURCE_INDEX = \"원본_인덱스_이름\"  # 사용자의 원본 인덱스 이름으로 변경\n",
    "QUERY_SIZE = 1000  # Elasticsearch에서 가져올 문서의 수\n",
    "EMBEDDING_TEXT_FIELD = ['text']  # 임베딩을 위한 데이터의 텍스트 필드 경로\n",
    "\n",
    "data = indexer.get_data_from_es(SOURCE_INDEX, query_size=QUERY_SIZE, embedding_text_field=EMBEDDING_TEXT_FIELD)"
   ]
  },
  {
   "cell_type": "markdown",
   "metadata": {},
   "source": [
    "### 3. 가져온 데이터에 대한 임베딩 생성\n",
    "SentenceTransformer를 사용하여 문장의 임베딩을 생성합니다."
   ]
  },
  {
   "cell_type": "code",
   "execution_count": 5,
   "metadata": {},
   "outputs": [
    {
     "name": "stderr",
     "output_type": "stream",
     "text": [
      "2023-08-24 11:51:35,675 - INFO - Generating embeddings for 1000 sentences\n"
     ]
    },
    {
     "data": {
      "application/vnd.jupyter.widget-view+json": {
       "model_id": "e77c6a4475ae4e74bf1ea60c4d887101",
       "version_major": 2,
       "version_minor": 0
      },
      "text/plain": [
       "Batches:   0%|          | 0/32 [00:00<?, ?it/s]"
      ]
     },
     "metadata": {},
     "output_type": "display_data"
    },
    {
     "name": "stderr",
     "output_type": "stream",
     "text": [
      "2023-08-24 11:51:40,905 - INFO - Embeddings generated successfully\n"
     ]
    }
   ],
   "source": [
    "embeddings = indexer.embed_data(data, embedding_text_field=EMBEDDING_TEXT_FIELD)"
   ]
  },
  {
   "cell_type": "markdown",
   "metadata": {},
   "source": [
    "### 4. 생성된 임베딩을 Elasticsearch에 색인\n",
    "생성된 임베딩을 Elasticsearch에 색인합니다. 원본 인덱스와 대상 인덱스가 동일한 경우 문서를 업데이트하며, 그렇지 않은 경우 새로운 문서를 색인합니다."
   ]
  },
  {
   "cell_type": "code",
   "execution_count": null,
   "metadata": {},
   "outputs": [],
   "source": [
    "TARGET_INDEX = \"대상_인덱스_이름\"  # 사용자의 대상 인덱스 이름으로 변경\n",
    "DECIMAL_PRECISION = 5  # 임베딩 값의 소수점 자리 수\n",
    "\n",
    "update = SOURCE_INDEX == TARGET_INDEX\n",
    "indexer.index_data(TARGET_INDEX, data, embeddings, embedding_text_field=EMBEDDING_TEXT_FIELD, decimal_precision=DECIMAL_PRECISION, update=update)"
   ]
  }
 ],
 "metadata": {
  "kernelspec": {
   "display_name": "test",
   "language": "python",
   "name": "python3"
  },
  "language_info": {
   "codemirror_mode": {
    "name": "ipython",
    "version": 3
   },
   "file_extension": ".py",
   "mimetype": "text/x-python",
   "name": "python",
   "nbconvert_exporter": "python",
   "pygments_lexer": "ipython3",
   "version": "3.8.3"
  },
  "orig_nbformat": 4
 },
 "nbformat": 4,
 "nbformat_minor": 2
}
